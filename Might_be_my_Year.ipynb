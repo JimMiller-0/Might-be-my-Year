{
  "nbformat": 4,
  "nbformat_minor": 0,
  "metadata": {
    "colab": {
      "provenance": [],
      "authorship_tag": "ABX9TyMB6nyiwQSSzgIXGUfZZpmv",
      "include_colab_link": true
    },
    "kernelspec": {
      "name": "python3",
      "display_name": "Python 3"
    },
    "language_info": {
      "name": "python"
    }
  },
  "cells": [
    {
      "cell_type": "markdown",
      "metadata": {
        "id": "view-in-github",
        "colab_type": "text"
      },
      "source": [
        "<a href=\"https://colab.research.google.com/github/JimMiller-0/Might-be-my-Year/blob/main/Might_be_my_Year.ipynb\" target=\"_parent\"><img src=\"https://colab.research.google.com/assets/colab-badge.svg\" alt=\"Open In Colab\"/></a>"
      ]
    },
    {
      "cell_type": "markdown",
      "source": [
        "This is a notebook for retreiving Fantasy Football Data from ESPN for analysis and predictive capabilities"
      ],
      "metadata": {
        "id": "z3kfLMqUCIae"
      }
    },
    {
      "cell_type": "markdown",
      "source": [
        "Get Data"
      ],
      "metadata": {
        "id": "16MbXDTu05eO"
      }
    },
    {
      "cell_type": "code",
      "execution_count": null,
      "metadata": {
        "id": "AFYH1buE0yXl"
      },
      "outputs": [],
      "source": [
        "# Install necessary SDKs\n",
        "\n",
        "!pip install espn-api\n",
        "!pip install google-cloud-secret-manager\n",
        "\n",
        "\n",
        "\n"
      ]
    },
    {
      "cell_type": "markdown",
      "source": [
        "Imports"
      ],
      "metadata": {
        "id": "7AyX4ppD6ZT6"
      }
    },
    {
      "cell_type": "code",
      "source": [
        "import pandas as pd\n",
        "from espn_api.football import League\n",
        "from google.cloud import secretmanager\n",
        "import requests\n",
        "import json\n",
        "import time\n",
        "import numpy as np\n",
        "import datetime\n",
        "import os"
      ],
      "metadata": {
        "id": "5-Ti3jn76GhW"
      },
      "execution_count": 1,
      "outputs": []
    },
    {
      "cell_type": "markdown",
      "source": [
        "League Variables & Access Tokens for ESPN API"
      ],
      "metadata": {
        "id": "2bIPDfui5_1f"
      }
    },
    {
      "cell_type": "code",
      "source": [
        "# You will need to get your league ID and ESPN S2 and SWID\n",
        "# See https://github.com/cwendt94/espn-api/wiki/Football-Intro for details\n",
        "# Recommended: Store SWID and ESPN S2 in a secrets manager, like gcp secrets manager: https://cloud.google.com/security/products/secret-manager\n",
        "\n",
        "league_id = 1054374 # => set to league ID that you want to pull data from\n",
        "season=2023 # => set to year you want to pull data from\n",
        "url=f'https://lm-api-reads.fantasy.espn.com/apis/v3/games/ffl/seasons/{season}/segments/0/leagues/{league_id}?scoringPeriodId=17&view=mBoxscore&view=m' # => url of ESPN API. Note: this has changed over the years, navigate to the site and inspect network calls to get current endpoint\n",
        "\n",
        "# Authenticate to Google Cloud\n",
        "from google.colab import auth\n",
        "auth.authenticate_user()\n",
        "\n",
        "#Create a Client for secrets manager\n",
        "client = secretmanager.SecretManagerServiceClient()\n",
        "project_id = 'might-be-my-year' # => GCP Project ID where secrets manager is enabled\n",
        "secret_espn_s2 = 'espn_s2' # name of secret in GCP secrets manager for espn_s2\n",
        "secret_swid = 'swid' # name of secret in GCP secrets manager for swid\n",
        "\n",
        "# Forge the paths to the latest version of the secrets with a F-string:\n",
        "resource_name_espn_s2 = f\"projects/{project_id}/secrets/{secret_espn_s2}/versions/latest\"\n",
        "resource_name_swid = f\"projects/{project_id}/secrets/{secret_swid}/versions/latest\"\n",
        "\n",
        "# Load up the secrets to a variable at runtime:\n",
        "response_espn_s2 = client.access_secret_version(name=resource_name_espn_s2)\n",
        "response_swid = client.access_secret_version(name=resource_name_swid)\n",
        "\n",
        "espn_s2 = response_espn_s2.payload.data.decode(\"UTF-8\")\n",
        "swid = response_swid.payload.data.decode(\"UTF-8\")\n",
        "\n",
        "\n",
        "\n"
      ],
      "metadata": {
        "id": "ItuWEaB354yR"
      },
      "execution_count": 3,
      "outputs": []
    },
    {
      "cell_type": "markdown",
      "source": [
        "Get Data From ESPN API"
      ],
      "metadata": {
        "id": "YePLEaBR6cgt"
      }
    },
    {
      "cell_type": "code",
      "source": [
        "r = requests.get(url, cookies={'swid': swid, 'espn_s2': espn_s2})\n",
        "data = r.json()\n",
        "data"
      ],
      "metadata": {
        "id": "fcZfj0Zv6hdI"
      },
      "execution_count": null,
      "outputs": []
    }
  ]
}